{
 "cells": [
  {
   "cell_type": "code",
   "execution_count": 127,
   "metadata": {},
   "outputs": [],
   "source": [
    "#!/usr/bin/env python3\n",
    "import pandas as pd\n",
    "\n",
    "# In Anaconda navigator I needed to install geopandas and then update it to fix fiona / gdal error\n",
    "# https://stackoverflow.com/questions/42749254/error-in-importing-geopandas#43762549\n",
    "# https://github.com/GenericMappingTools/gmt-python/issues/104\n",
    "import geopandas as gpd\n",
    "\n",
    "import matplotlib.pyplot as plt\n",
    "\n",
    "# https://stackoverflow.com/questions/39215202/matplotlib-geopandas-plot-multiple-layers-control-figsize\n",
    "# https://stackoverflow.com/questions/36367986/how-to-make-inline-plots-in-jupyter-notebook-larger\n",
    "# https://erdatadoc.com/2016/07/14/jupyter-notebook-matplotlib-figure-display-options-and-pandas-set_option-optimization-tips/\n",
    "# plt.rcParams['figure.figsize'] = [10, 20]\n",
    "\n",
    "# display plots inside jupyter\n",
    "%matplotlib inline\n"
   ]
  },
  {
   "cell_type": "markdown",
   "metadata": {},
   "source": [
    "# Create DataFrame with United States state populations via html file"
   ]
  },
  {
   "cell_type": "code",
   "execution_count": 128,
   "metadata": {},
   "outputs": [],
   "source": [
    "def state_population():\n",
    "    \"\"\"\n",
    "    data file was downloaded from\n",
    "    https://en.wikipedia.org/wiki/List_of_states_and_territories_of_the_United_States_by_population.html\n",
    "    and stored in data directory\n",
    "    :return: dataframe with state name, population. Contains Washington DC and Puerto Rico\n",
    "    \"\"\"\n",
    "    # read the html file in data directory.\n",
    "    # alternatively could read html directly from the url\n",
    "    population_html = './data/state_population.html'\n",
    "\n",
    "    # read_html grabs the table. We don't need to parse the html e.g. with BeautifulSoup or Selenium\n",
    "    state_population_df_list = pd.read_html(population_html)\n",
    "\n",
    "    # on this page, use only the first table\n",
    "    df = state_population_df_list[0]\n",
    "    \n",
    "    # drop unneeded columns\n",
    "    # https://stackoverflow.com/questions/13411544/delete-column-from-pandas-dataframe-using-del-df-column-name#13485766\n",
    "    df.drop(df.columns[[0, 1]], axis=1, inplace=True)\n",
    "    df.drop(df.columns[[2, 3, 4, 5, 6, 7, 8]], axis=1, inplace=True)\n",
    "    \n",
    "    df.columns = ['name', 'pop_2017_est']\n",
    "    \n",
    "    # drop unneeded rows\n",
    "    # use inplace=True or alternatively explicitlyre-assign df = df.drop(0)\n",
    "    df.drop(0, inplace=True)\n",
    "    # drop non-states\n",
    "    df.drop(df.tail(19).index,inplace=True)\n",
    "    \n",
    "    # convert type object (String) to float64\n",
    "    df['pop_2017_est'] = df['pop_2017_est'].astype(float)\n",
    "\n",
    "    return df\n",
    " "
   ]
  },
  {
   "cell_type": "code",
   "execution_count": 129,
   "metadata": {},
   "outputs": [
    {
     "name": "stdout",
     "output_type": "stream",
     "text": [
      "name             object\n",
      "pop_2017_est    float64\n",
      "dtype: object\n",
      "(52, 2)\n"
     ]
    },
    {
     "data": {
      "text/html": [
       "<div>\n",
       "<style scoped>\n",
       "    .dataframe tbody tr th:only-of-type {\n",
       "        vertical-align: middle;\n",
       "    }\n",
       "\n",
       "    .dataframe tbody tr th {\n",
       "        vertical-align: top;\n",
       "    }\n",
       "\n",
       "    .dataframe thead th {\n",
       "        text-align: right;\n",
       "    }\n",
       "</style>\n",
       "<table border=\"1\" class=\"dataframe\">\n",
       "  <thead>\n",
       "    <tr style=\"text-align: right;\">\n",
       "      <th></th>\n",
       "      <th>name</th>\n",
       "      <th>pop_2017_est</th>\n",
       "    </tr>\n",
       "  </thead>\n",
       "  <tbody>\n",
       "    <tr>\n",
       "      <th>1</th>\n",
       "      <td>California</td>\n",
       "      <td>39536653.0</td>\n",
       "    </tr>\n",
       "    <tr>\n",
       "      <th>2</th>\n",
       "      <td>Texas</td>\n",
       "      <td>28304596.0</td>\n",
       "    </tr>\n",
       "    <tr>\n",
       "      <th>3</th>\n",
       "      <td>Florida</td>\n",
       "      <td>20984400.0</td>\n",
       "    </tr>\n",
       "    <tr>\n",
       "      <th>4</th>\n",
       "      <td>New York</td>\n",
       "      <td>19849399.0</td>\n",
       "    </tr>\n",
       "    <tr>\n",
       "      <th>5</th>\n",
       "      <td>Pennsylvania</td>\n",
       "      <td>12805537.0</td>\n",
       "    </tr>\n",
       "  </tbody>\n",
       "</table>\n",
       "</div>"
      ],
      "text/plain": [
       "           name  pop_2017_est\n",
       "1    California    39536653.0\n",
       "2         Texas    28304596.0\n",
       "3       Florida    20984400.0\n",
       "4      New York    19849399.0\n",
       "5  Pennsylvania    12805537.0"
      ]
     },
     "execution_count": 129,
     "metadata": {},
     "output_type": "execute_result"
    }
   ],
   "source": [
    "df_pop = state_population()\n",
    "print(df_pop.dtypes)\n",
    "print(df_pop.shape)\n",
    "df_pop.head()\n"
   ]
  },
  {
   "cell_type": "markdown",
   "metadata": {},
   "source": [
    "# Create Geopandas GeoDataFrame via state shapefile"
   ]
  },
  {
   "cell_type": "code",
   "execution_count": 130,
   "metadata": {},
   "outputs": [
    {
     "name": "stdout",
     "output_type": "stream",
     "text": [
      "statefp     object\n",
      "statens     object\n",
      "affgeoid    object\n",
      "geoid       object\n",
      "stusps      object\n",
      "name        object\n",
      "lsad        object\n",
      "aland        int64\n",
      "awater       int64\n",
      "geometry    object\n",
      "dtype: object\n"
     ]
    },
    {
     "data": {
      "text/html": [
       "<div>\n",
       "<style scoped>\n",
       "    .dataframe tbody tr th:only-of-type {\n",
       "        vertical-align: middle;\n",
       "    }\n",
       "\n",
       "    .dataframe tbody tr th {\n",
       "        vertical-align: top;\n",
       "    }\n",
       "\n",
       "    .dataframe thead th {\n",
       "        text-align: right;\n",
       "    }\n",
       "</style>\n",
       "<table border=\"1\" class=\"dataframe\">\n",
       "  <thead>\n",
       "    <tr style=\"text-align: right;\">\n",
       "      <th></th>\n",
       "      <th>statefp</th>\n",
       "      <th>statens</th>\n",
       "      <th>affgeoid</th>\n",
       "      <th>geoid</th>\n",
       "      <th>stusps</th>\n",
       "      <th>name</th>\n",
       "      <th>lsad</th>\n",
       "      <th>aland</th>\n",
       "      <th>awater</th>\n",
       "      <th>geometry</th>\n",
       "    </tr>\n",
       "  </thead>\n",
       "  <tbody>\n",
       "    <tr>\n",
       "      <th>0</th>\n",
       "      <td>02</td>\n",
       "      <td>01785533</td>\n",
       "      <td>0400000US02</td>\n",
       "      <td>02</td>\n",
       "      <td>AK</td>\n",
       "      <td>Alaska</td>\n",
       "      <td>00</td>\n",
       "      <td>1478588231566</td>\n",
       "      <td>277723861311</td>\n",
       "      <td>(POLYGON ((-173.074642 60.704657, -172.912636 ...</td>\n",
       "    </tr>\n",
       "    <tr>\n",
       "      <th>1</th>\n",
       "      <td>06</td>\n",
       "      <td>01779778</td>\n",
       "      <td>0400000US06</td>\n",
       "      <td>06</td>\n",
       "      <td>CA</td>\n",
       "      <td>California</td>\n",
       "      <td>00</td>\n",
       "      <td>403483182192</td>\n",
       "      <td>20484637928</td>\n",
       "      <td>(POLYGON ((-118.593969 33.467198, -118.484785 ...</td>\n",
       "    </tr>\n",
       "    <tr>\n",
       "      <th>2</th>\n",
       "      <td>08</td>\n",
       "      <td>01779779</td>\n",
       "      <td>0400000US08</td>\n",
       "      <td>08</td>\n",
       "      <td>CO</td>\n",
       "      <td>Colorado</td>\n",
       "      <td>00</td>\n",
       "      <td>268425964573</td>\n",
       "      <td>1178495763</td>\n",
       "      <td>POLYGON ((-109.059962 38.499987, -109.05996197...</td>\n",
       "    </tr>\n",
       "    <tr>\n",
       "      <th>3</th>\n",
       "      <td>11</td>\n",
       "      <td>01702382</td>\n",
       "      <td>0400000US11</td>\n",
       "      <td>11</td>\n",
       "      <td>DC</td>\n",
       "      <td>District of Columbia</td>\n",
       "      <td>00</td>\n",
       "      <td>158351639</td>\n",
       "      <td>18675956</td>\n",
       "      <td>POLYGON ((-77.119759 38.934343, -77.0410179999...</td>\n",
       "    </tr>\n",
       "    <tr>\n",
       "      <th>4</th>\n",
       "      <td>16</td>\n",
       "      <td>01779783</td>\n",
       "      <td>0400000US16</td>\n",
       "      <td>16</td>\n",
       "      <td>ID</td>\n",
       "      <td>Idaho</td>\n",
       "      <td>00</td>\n",
       "      <td>214048160737</td>\n",
       "      <td>2393355752</td>\n",
       "      <td>POLYGON ((-117.243027 44.390974, -117.215072 4...</td>\n",
       "    </tr>\n",
       "  </tbody>\n",
       "</table>\n",
       "</div>"
      ],
      "text/plain": [
       "  statefp   statens     affgeoid geoid stusps                  name lsad  \\\n",
       "0      02  01785533  0400000US02    02     AK                Alaska   00   \n",
       "1      06  01779778  0400000US06    06     CA            California   00   \n",
       "2      08  01779779  0400000US08    08     CO              Colorado   00   \n",
       "3      11  01702382  0400000US11    11     DC  District of Columbia   00   \n",
       "4      16  01779783  0400000US16    16     ID                 Idaho   00   \n",
       "\n",
       "           aland        awater  \\\n",
       "0  1478588231566  277723861311   \n",
       "1   403483182192   20484637928   \n",
       "2   268425964573    1178495763   \n",
       "3      158351639      18675956   \n",
       "4   214048160737    2393355752   \n",
       "\n",
       "                                            geometry  \n",
       "0  (POLYGON ((-173.074642 60.704657, -172.912636 ...  \n",
       "1  (POLYGON ((-118.593969 33.467198, -118.484785 ...  \n",
       "2  POLYGON ((-109.059962 38.499987, -109.05996197...  \n",
       "3  POLYGON ((-77.119759 38.934343, -77.0410179999...  \n",
       "4  POLYGON ((-117.243027 44.390974, -117.215072 4...  "
      ]
     },
     "execution_count": 130,
     "metadata": {},
     "output_type": "execute_result"
    }
   ],
   "source": [
    "# https://www.census.gov/geo/maps-data/data/cbf/cbf_state.html\n",
    "shape_filename = './data/cb_2017_us_state_20m/cb_2017_us_state_20m.shp'\n",
    "df_map = gpd.read_file(shape_filename)\n",
    "\n",
    "column_names_lower = [column_name.lower() for column_name in df_map.columns]\n",
    "df_map.columns = column_names_lower\n",
    "\n",
    "print(df_map.dtypes)\n",
    "df_map.head()"
   ]
  },
  {
   "cell_type": "markdown",
   "metadata": {},
   "source": [
    "# Merge population into GeoDataFrame"
   ]
  },
  {
   "cell_type": "code",
   "execution_count": 131,
   "metadata": {},
   "outputs": [
    {
     "data": {
      "text/html": [
       "<div>\n",
       "<style scoped>\n",
       "    .dataframe tbody tr th:only-of-type {\n",
       "        vertical-align: middle;\n",
       "    }\n",
       "\n",
       "    .dataframe tbody tr th {\n",
       "        vertical-align: top;\n",
       "    }\n",
       "\n",
       "    .dataframe thead th {\n",
       "        text-align: right;\n",
       "    }\n",
       "</style>\n",
       "<table border=\"1\" class=\"dataframe\">\n",
       "  <thead>\n",
       "    <tr style=\"text-align: right;\">\n",
       "      <th></th>\n",
       "      <th>statefp</th>\n",
       "      <th>statens</th>\n",
       "      <th>affgeoid</th>\n",
       "      <th>geoid</th>\n",
       "      <th>stusps</th>\n",
       "      <th>name</th>\n",
       "      <th>lsad</th>\n",
       "      <th>aland</th>\n",
       "      <th>awater</th>\n",
       "      <th>geometry</th>\n",
       "      <th>pop_2017_est</th>\n",
       "    </tr>\n",
       "  </thead>\n",
       "  <tbody>\n",
       "    <tr>\n",
       "      <th>0</th>\n",
       "      <td>01</td>\n",
       "      <td>01779775</td>\n",
       "      <td>0400000US01</td>\n",
       "      <td>01</td>\n",
       "      <td>AL</td>\n",
       "      <td>Alabama</td>\n",
       "      <td>00</td>\n",
       "      <td>131174431216</td>\n",
       "      <td>4592944701</td>\n",
       "      <td>POLYGON ((-88.46866248405129 31.8938557116156,...</td>\n",
       "      <td>4874747.0</td>\n",
       "    </tr>\n",
       "    <tr>\n",
       "      <th>1</th>\n",
       "      <td>02</td>\n",
       "      <td>01785533</td>\n",
       "      <td>0400000US02</td>\n",
       "      <td>02</td>\n",
       "      <td>AK</td>\n",
       "      <td>Alaska</td>\n",
       "      <td>00</td>\n",
       "      <td>1478588231566</td>\n",
       "      <td>277723861311</td>\n",
       "      <td>(POLYGON ((-173.074642 60.704657, -172.912636 ...</td>\n",
       "      <td>739795.0</td>\n",
       "    </tr>\n",
       "    <tr>\n",
       "      <th>2</th>\n",
       "      <td>04</td>\n",
       "      <td>01779777</td>\n",
       "      <td>0400000US04</td>\n",
       "      <td>04</td>\n",
       "      <td>AZ</td>\n",
       "      <td>Arizona</td>\n",
       "      <td>00</td>\n",
       "      <td>294198661567</td>\n",
       "      <td>1027245114</td>\n",
       "      <td>POLYGON ((-114.799683 32.593621, -114.809393 3...</td>\n",
       "      <td>7016270.0</td>\n",
       "    </tr>\n",
       "    <tr>\n",
       "      <th>3</th>\n",
       "      <td>05</td>\n",
       "      <td>00068085</td>\n",
       "      <td>0400000US05</td>\n",
       "      <td>05</td>\n",
       "      <td>AR</td>\n",
       "      <td>Arkansas</td>\n",
       "      <td>00</td>\n",
       "      <td>134768100673</td>\n",
       "      <td>2963631791</td>\n",
       "      <td>POLYGON ((-94.617919 36.499414, -94.3612029999...</td>\n",
       "      <td>3004279.0</td>\n",
       "    </tr>\n",
       "    <tr>\n",
       "      <th>4</th>\n",
       "      <td>06</td>\n",
       "      <td>01779778</td>\n",
       "      <td>0400000US06</td>\n",
       "      <td>06</td>\n",
       "      <td>CA</td>\n",
       "      <td>California</td>\n",
       "      <td>00</td>\n",
       "      <td>403483182192</td>\n",
       "      <td>20484637928</td>\n",
       "      <td>(POLYGON ((-118.593969 33.467198, -118.484785 ...</td>\n",
       "      <td>39536653.0</td>\n",
       "    </tr>\n",
       "  </tbody>\n",
       "</table>\n",
       "</div>"
      ],
      "text/plain": [
       "  statefp   statens     affgeoid geoid stusps        name lsad          aland  \\\n",
       "0      01  01779775  0400000US01    01     AL     Alabama   00   131174431216   \n",
       "1      02  01785533  0400000US02    02     AK      Alaska   00  1478588231566   \n",
       "2      04  01779777  0400000US04    04     AZ     Arizona   00   294198661567   \n",
       "3      05  00068085  0400000US05    05     AR    Arkansas   00   134768100673   \n",
       "4      06  01779778  0400000US06    06     CA  California   00   403483182192   \n",
       "\n",
       "         awater                                           geometry  \\\n",
       "0    4592944701  POLYGON ((-88.46866248405129 31.8938557116156,...   \n",
       "1  277723861311  (POLYGON ((-173.074642 60.704657, -172.912636 ...   \n",
       "2    1027245114  POLYGON ((-114.799683 32.593621, -114.809393 3...   \n",
       "3    2963631791  POLYGON ((-94.617919 36.499414, -94.3612029999...   \n",
       "4   20484637928  (POLYGON ((-118.593969 33.467198, -118.484785 ...   \n",
       "\n",
       "   pop_2017_est  \n",
       "0     4874747.0  \n",
       "1      739795.0  \n",
       "2     7016270.0  \n",
       "3     3004279.0  \n",
       "4    39536653.0  "
      ]
     },
     "execution_count": 131,
     "metadata": {},
     "output_type": "execute_result"
    }
   ],
   "source": [
    "df_map = pd.merge(left=df_map, right=df_pop, on='name', sort=True)\n",
    "df_map.head()"
   ]
  },
  {
   "cell_type": "markdown",
   "metadata": {},
   "source": [
    "# Add column population density"
   ]
  },
  {
   "cell_type": "code",
   "execution_count": 132,
   "metadata": {},
   "outputs": [
    {
     "data": {
      "text/html": [
       "<div>\n",
       "<style scoped>\n",
       "    .dataframe tbody tr th:only-of-type {\n",
       "        vertical-align: middle;\n",
       "    }\n",
       "\n",
       "    .dataframe tbody tr th {\n",
       "        vertical-align: top;\n",
       "    }\n",
       "\n",
       "    .dataframe thead th {\n",
       "        text-align: right;\n",
       "    }\n",
       "</style>\n",
       "<table border=\"1\" class=\"dataframe\">\n",
       "  <thead>\n",
       "    <tr style=\"text-align: right;\">\n",
       "      <th></th>\n",
       "      <th>name</th>\n",
       "      <th>lsad</th>\n",
       "      <th>aland</th>\n",
       "      <th>awater</th>\n",
       "      <th>geometry</th>\n",
       "      <th>pop_2017_est</th>\n",
       "      <th>population_density</th>\n",
       "    </tr>\n",
       "  </thead>\n",
       "  <tbody>\n",
       "    <tr>\n",
       "      <th>0</th>\n",
       "      <td>Alabama</td>\n",
       "      <td>00</td>\n",
       "      <td>131174431216</td>\n",
       "      <td>4592944701</td>\n",
       "      <td>POLYGON ((-88.46866248405129 31.8938557116156,...</td>\n",
       "      <td>4874747.0</td>\n",
       "      <td>37.162326</td>\n",
       "    </tr>\n",
       "    <tr>\n",
       "      <th>1</th>\n",
       "      <td>Alaska</td>\n",
       "      <td>00</td>\n",
       "      <td>1478588231566</td>\n",
       "      <td>277723861311</td>\n",
       "      <td>(POLYGON ((-173.074642 60.704657, -172.912636 ...</td>\n",
       "      <td>739795.0</td>\n",
       "      <td>0.500339</td>\n",
       "    </tr>\n",
       "    <tr>\n",
       "      <th>2</th>\n",
       "      <td>Arizona</td>\n",
       "      <td>00</td>\n",
       "      <td>294198661567</td>\n",
       "      <td>1027245114</td>\n",
       "      <td>POLYGON ((-114.799683 32.593621, -114.809393 3...</td>\n",
       "      <td>7016270.0</td>\n",
       "      <td>23.848749</td>\n",
       "    </tr>\n",
       "    <tr>\n",
       "      <th>3</th>\n",
       "      <td>Arkansas</td>\n",
       "      <td>00</td>\n",
       "      <td>134768100673</td>\n",
       "      <td>2963631791</td>\n",
       "      <td>POLYGON ((-94.617919 36.499414, -94.3612029999...</td>\n",
       "      <td>3004279.0</td>\n",
       "      <td>22.292211</td>\n",
       "    </tr>\n",
       "    <tr>\n",
       "      <th>4</th>\n",
       "      <td>California</td>\n",
       "      <td>00</td>\n",
       "      <td>403483182192</td>\n",
       "      <td>20484637928</td>\n",
       "      <td>(POLYGON ((-118.593969 33.467198, -118.484785 ...</td>\n",
       "      <td>39536653.0</td>\n",
       "      <td>97.988354</td>\n",
       "    </tr>\n",
       "  </tbody>\n",
       "</table>\n",
       "</div>"
      ],
      "text/plain": [
       "         name lsad          aland        awater  \\\n",
       "0     Alabama   00   131174431216    4592944701   \n",
       "1      Alaska   00  1478588231566  277723861311   \n",
       "2     Arizona   00   294198661567    1027245114   \n",
       "3    Arkansas   00   134768100673    2963631791   \n",
       "4  California   00   403483182192   20484637928   \n",
       "\n",
       "                                            geometry  pop_2017_est  \\\n",
       "0  POLYGON ((-88.46866248405129 31.8938557116156,...     4874747.0   \n",
       "1  (POLYGON ((-173.074642 60.704657, -172.912636 ...      739795.0   \n",
       "2  POLYGON ((-114.799683 32.593621, -114.809393 3...     7016270.0   \n",
       "3  POLYGON ((-94.617919 36.499414, -94.3612029999...     3004279.0   \n",
       "4  (POLYGON ((-118.593969 33.467198, -118.484785 ...    39536653.0   \n",
       "\n",
       "   population_density  \n",
       "0           37.162326  \n",
       "1            0.500339  \n",
       "2           23.848749  \n",
       "3           22.292211  \n",
       "4           97.988354  "
      ]
     },
     "execution_count": 132,
     "metadata": {},
     "output_type": "execute_result"
    }
   ],
   "source": [
    "df_map['population_density'] = df_map['pop_2017_est'] / (df_map['aland'] / 1000000 )\n",
    "\n",
    "# don't display left 5 columns\n",
    "# iloc slice by index integer position. all rows, column >= 5\n",
    "# https://stackoverflow.com/questions/31593201/pandas-iloc-vs-ix-vs-loc-explanation-how-are-they-different#31593712\n",
    "df_map.iloc[:, 5:].head()"
   ]
  },
  {
   "cell_type": "markdown",
   "metadata": {},
   "source": [
    "## statistics"
   ]
  },
  {
   "cell_type": "code",
   "execution_count": 133,
   "metadata": {},
   "outputs": [
    {
     "data": {
      "text/plain": [
       "count      52.000000\n",
       "mean      166.585164\n",
       "std       606.054209\n",
       "min         0.500339\n",
       "25%        19.847438\n",
       "50%        41.845482\n",
       "75%        91.274405\n",
       "max      4382.474374\n",
       "Name: population_density, dtype: float64"
      ]
     },
     "execution_count": 133,
     "metadata": {},
     "output_type": "execute_result"
    }
   ],
   "source": [
    "# distribution is very skewed. 75th percentile is 91 people/sq km, max is 4382 people/sq km\n",
    "df_map['population_density'].describe()"
   ]
  },
  {
   "cell_type": "markdown",
   "metadata": {},
   "source": [
    "## histogram"
   ]
  },
  {
   "cell_type": "code",
   "execution_count": 134,
   "metadata": {},
   "outputs": [
    {
     "data": {
      "image/png": "[encoded data removed]",
      "text/plain": [
       "<Figure size 1440x1440 with 1 Axes>"
      ]
     },
     "metadata": {},
     "output_type": "display_data"
    }
   ],
   "source": [
    "figsize = (20, 20)\n",
    "fig, ax = plt.subplots(1, 1, figsize=figsize)\n",
    "ax.set_title('Population density [people/sq km] Histogram')\n",
    "hist = df_map['population_density'].hist(bins=200, figsize=figsize)"
   ]
  },
  {
   "cell_type": "code",
   "execution_count": 135,
   "metadata": {},
   "outputs": [
    {
     "data": {
      "text/plain": [
       "statefp                                                              02\n",
       "statens                                                        01785533\n",
       "affgeoid                                                    0400000US02\n",
       "geoid                                                                02\n",
       "stusps                                                               AK\n",
       "name                                                             Alaska\n",
       "lsad                                                                 00\n",
       "aland                                                     1478588231566\n",
       "awater                                                     277723861311\n",
       "geometry              (POLYGON ((-173.074642 60.704657, -172.912636 ...\n",
       "pop_2017_est                                                     739795\n",
       "population_density                                             0.500339\n",
       "Name: 1, dtype: object"
      ]
     },
     "execution_count": 135,
     "metadata": {},
     "output_type": "execute_result"
    }
   ],
   "source": [
    "#find state with lowest population density\n",
    "df_map.loc[df_map['population_density'].idxmin()]"
   ]
  },
  {
   "cell_type": "markdown",
   "metadata": {},
   "source": [
    "# sort by population density"
   ]
  },
  {
   "cell_type": "code",
   "execution_count": 136,
   "metadata": {},
   "outputs": [
    {
     "data": {
      "text/html": [
       "<div>\n",
       "<style scoped>\n",
       "    .dataframe tbody tr th:only-of-type {\n",
       "        vertical-align: middle;\n",
       "    }\n",
       "\n",
       "    .dataframe tbody tr th {\n",
       "        vertical-align: top;\n",
       "    }\n",
       "\n",
       "    .dataframe thead th {\n",
       "        text-align: right;\n",
       "    }\n",
       "</style>\n",
       "<table border=\"1\" class=\"dataframe\">\n",
       "  <thead>\n",
       "    <tr style=\"text-align: right;\">\n",
       "      <th></th>\n",
       "      <th>name</th>\n",
       "      <th>population_density</th>\n",
       "    </tr>\n",
       "  </thead>\n",
       "  <tbody>\n",
       "    <tr>\n",
       "      <th>8</th>\n",
       "      <td>District of Columbia</td>\n",
       "      <td>4382.474374</td>\n",
       "    </tr>\n",
       "    <tr>\n",
       "      <th>30</th>\n",
       "      <td>New Jersey</td>\n",
       "      <td>472.744084</td>\n",
       "    </tr>\n",
       "    <tr>\n",
       "      <th>40</th>\n",
       "      <td>Rhode Island</td>\n",
       "      <td>395.683336</td>\n",
       "    </tr>\n",
       "    <tr>\n",
       "      <th>39</th>\n",
       "      <td>Puerto Rico</td>\n",
       "      <td>376.285576</td>\n",
       "    </tr>\n",
       "    <tr>\n",
       "      <th>21</th>\n",
       "      <td>Massachusetts</td>\n",
       "      <td>339.522935</td>\n",
       "    </tr>\n",
       "  </tbody>\n",
       "</table>\n",
       "</div>"
      ],
      "text/plain": [
       "                    name  population_density\n",
       "8   District of Columbia         4382.474374\n",
       "30            New Jersey          472.744084\n",
       "40          Rhode Island          395.683336\n",
       "39           Puerto Rico          376.285576\n",
       "21         Massachusetts          339.522935"
      ]
     },
     "execution_count": 136,
     "metadata": {},
     "output_type": "execute_result"
    }
   ],
   "source": [
    "# select 2 columns, sort.\n",
    "# doesn't mutate dataframe if don't set inplace True and don't reassign to df_map\n",
    "df_map[['name','population_density']].sort_values(by= ['population_density'], ascending=False).head()"
   ]
  },
  {
   "cell_type": "markdown",
   "metadata": {},
   "source": [
    "# Add column awater_frac"
   ]
  },
  {
   "cell_type": "code",
   "execution_count": 137,
   "metadata": {},
   "outputs": [
    {
     "data": {
      "text/html": [
       "<div>\n",
       "<style scoped>\n",
       "    .dataframe tbody tr th:only-of-type {\n",
       "        vertical-align: middle;\n",
       "    }\n",
       "\n",
       "    .dataframe tbody tr th {\n",
       "        vertical-align: top;\n",
       "    }\n",
       "\n",
       "    .dataframe thead th {\n",
       "        text-align: right;\n",
       "    }\n",
       "</style>\n",
       "<table border=\"1\" class=\"dataframe\">\n",
       "  <thead>\n",
       "    <tr style=\"text-align: right;\">\n",
       "      <th></th>\n",
       "      <th>name</th>\n",
       "      <th>lsad</th>\n",
       "      <th>aland</th>\n",
       "      <th>awater</th>\n",
       "      <th>geometry</th>\n",
       "      <th>pop_2017_est</th>\n",
       "      <th>population_density</th>\n",
       "      <th>awater_frac</th>\n",
       "    </tr>\n",
       "  </thead>\n",
       "  <tbody>\n",
       "    <tr>\n",
       "      <th>22</th>\n",
       "      <td>Michigan</td>\n",
       "      <td>00</td>\n",
       "      <td>146488062160</td>\n",
       "      <td>103998746281</td>\n",
       "      <td>(POLYGON ((-84.61622 45.89447, -84.517895 45.8...</td>\n",
       "      <td>9962311.0</td>\n",
       "      <td>68.007665</td>\n",
       "      <td>0.415187</td>\n",
       "    </tr>\n",
       "    <tr>\n",
       "      <th>11</th>\n",
       "      <td>Hawaii</td>\n",
       "      <td>00</td>\n",
       "      <td>16634117742</td>\n",
       "      <td>11777681513</td>\n",
       "      <td>(POLYGON ((-156.049651 19.780452, -156.006267 ...</td>\n",
       "      <td>1427538.0</td>\n",
       "      <td>85.819881</td>\n",
       "      <td>0.414535</td>\n",
       "    </tr>\n",
       "    <tr>\n",
       "      <th>39</th>\n",
       "      <td>Puerto Rico</td>\n",
       "      <td>00</td>\n",
       "      <td>8868734851</td>\n",
       "      <td>4922543816</td>\n",
       "      <td>(POLYGON ((-65.342068 18.34529, -65.255933 18....</td>\n",
       "      <td>3337177.0</td>\n",
       "      <td>376.285576</td>\n",
       "      <td>0.356932</td>\n",
       "    </tr>\n",
       "    <tr>\n",
       "      <th>40</th>\n",
       "      <td>Rhode Island</td>\n",
       "      <td>00</td>\n",
       "      <td>2677997539</td>\n",
       "      <td>1323452846</td>\n",
       "      <td>(POLYGON ((-71.631472 41.166678, -71.593341999...</td>\n",
       "      <td>1059639.0</td>\n",
       "      <td>395.683336</td>\n",
       "      <td>0.330743</td>\n",
       "    </tr>\n",
       "    <tr>\n",
       "      <th>21</th>\n",
       "      <td>Massachusetts</td>\n",
       "      <td>00</td>\n",
       "      <td>20204287539</td>\n",
       "      <td>7130763257</td>\n",
       "      <td>(POLYGON ((-70.275526 41.310464, -70.193711999...</td>\n",
       "      <td>6859819.0</td>\n",
       "      <td>339.522935</td>\n",
       "      <td>0.260865</td>\n",
       "    </tr>\n",
       "  </tbody>\n",
       "</table>\n",
       "</div>"
      ],
      "text/plain": [
       "             name lsad         aland        awater  \\\n",
       "22       Michigan   00  146488062160  103998746281   \n",
       "11         Hawaii   00   16634117742   11777681513   \n",
       "39    Puerto Rico   00    8868734851    4922543816   \n",
       "40   Rhode Island   00    2677997539    1323452846   \n",
       "21  Massachusetts   00   20204287539    7130763257   \n",
       "\n",
       "                                             geometry  pop_2017_est  \\\n",
       "22  (POLYGON ((-84.61622 45.89447, -84.517895 45.8...     9962311.0   \n",
       "11  (POLYGON ((-156.049651 19.780452, -156.006267 ...     1427538.0   \n",
       "39  (POLYGON ((-65.342068 18.34529, -65.255933 18....     3337177.0   \n",
       "40  (POLYGON ((-71.631472 41.166678, -71.593341999...     1059639.0   \n",
       "21  (POLYGON ((-70.275526 41.310464, -70.193711999...     6859819.0   \n",
       "\n",
       "    population_density  awater_frac  \n",
       "22           68.007665     0.415187  \n",
       "11           85.819881     0.414535  \n",
       "39          376.285576     0.356932  \n",
       "40          395.683336     0.330743  \n",
       "21          339.522935     0.260865  "
      ]
     },
     "execution_count": 137,
     "metadata": {},
     "output_type": "execute_result"
    }
   ],
   "source": [
    "df_map['awater_frac'] = df_map['awater'] / (df_map['aland'] + df_map['awater'])\n",
    "df_map.iloc[:, 5:].sort_values(by= ['awater_frac'], ascending=False).head()"
   ]
  },
  {
   "cell_type": "markdown",
   "metadata": {},
   "source": [
    "# Draw chloropleth map of population density\n",
    "http://geopandas.org/mapping.html"
   ]
  },
  {
   "cell_type": "code",
   "execution_count": null,
   "metadata": {},
   "outputs": [
    {
     "data": {
      "text/plain": [
       "<matplotlib.axes._subplots.AxesSubplot at 0x12c5761d0>"
      ]
     },
     "execution_count": 138,
     "metadata": {},
     "output_type": "execute_result"
    }
   ],
   "source": [
    "# cx coordinate based indexing\n",
    "df_map = df_map.cx[-179:-65, 0:80]\n",
    "\n",
    "cmap = 'viridis'\n",
    "num_colors = 40\n",
    "vmin=0\n",
    "vmax=100\n",
    "\n",
    "# https://stackoverflow.com/questions/39215202/matplotlib-geopandas-plot-multiple-layers-control-figsize\n",
    "figsize = (20, 20)\n",
    "fig, ax = plt.subplots(1, 1, figsize=figsize)\n",
    "ax.set_title('Population density [people/sq km]')\n",
    "\n",
    "df_map.plot(column='population_density', cmap=cmap, ax=ax, k=num_colors, legend=False, vmin=vmin, vmax=vmax)"
   ]
  },
  {
   "cell_type": "markdown",
   "metadata": {},
   "source": [
    "# Increase plot vertical size - workaround, omit Alaska and Hawaii"
   ]
  },
  {
   "cell_type": "code",
   "execution_count": null,
   "metadata": {},
   "outputs": [],
   "source": [
    "# cx coordinate based indexing\n",
    "# http://geopandas.org/indexing.html\n",
    "df_non_alaska = df_map.cx[-120:-65, 0:80]\n",
    "\n",
    "num_colors = 40\n",
    "vmin=0\n",
    "vmax=300\n",
    "\n",
    "# https://stackoverflow.com/questions/39215202/matplotlib-geopandas-plot-multiple-layers-control-figsize\n",
    "figsize = (20, 20)\n",
    "fig, ax = plt.subplots(1, 1, figsize=figsize)\n",
    "ax.set_title('Population density [people/sq km]')\n",
    "df_non_alaska.plot(column='population_density', cmap=cmap, ax=ax, k=num_colors, legend=True, vmin=vmin, vmax=vmax)"
   ]
  },
  {
   "cell_type": "markdown",
   "metadata": {},
   "source": [
    "# Draw chloropleth map of awater_frac"
   ]
  },
  {
   "cell_type": "code",
   "execution_count": null,
   "metadata": {},
   "outputs": [],
   "source": [
    "cmap = 'Blues'\n",
    "num_colors = 40\n",
    "vmin=0\n",
    "vmax=0.2\n",
    "\n",
    "# https://stackoverflow.com/questions/39215202/matplotlib-geopandas-plot-multiple-layers-control-figsize\n",
    "figsize = (20, 20)\n",
    "fig, ax = plt.subplots(1, 1, figsize=figsize)\n",
    "ax.set_title('Fractional water area')\n",
    "\n",
    "df_non_alaska.plot(column='awater_frac', cmap=cmap, ax=ax, k=num_colors, legend=True, vmin=vmin, vmax=vmax)"
   ]
  },
  {
   "cell_type": "markdown",
   "metadata": {},
   "source": [
    "# scatter plot population density vs fractional water area"
   ]
  },
  {
   "cell_type": "code",
   "execution_count": null,
   "metadata": {},
   "outputs": [],
   "source": [
    "# prepare for scatterplot\n",
    "# geopandasdataframe didn't work with scatter plot, so create a new dataframe\n",
    "df_water_pop = pd.concat([df_map['name'], df_map['awater_frac'], df_map['population_density']], axis=1)\n",
    "df_water_pop.head()"
   ]
  },
  {
   "cell_type": "code",
   "execution_count": null,
   "metadata": {},
   "outputs": [],
   "source": [
    "df_water_pop.plot.scatter(x='awater_frac', y='population_density', figsize=figsize)"
   ]
  },
  {
   "cell_type": "code",
   "execution_count": null,
   "metadata": {},
   "outputs": [],
   "source": []
  },
  {
   "cell_type": "code",
   "execution_count": null,
   "metadata": {},
   "outputs": [],
   "source": []
  },
  {
   "cell_type": "code",
   "execution_count": null,
   "metadata": {},
   "outputs": [],
   "source": []
  },
  {
   "cell_type": "code",
   "execution_count": null,
   "metadata": {},
   "outputs": [],
   "source": []
  },
  {
   "cell_type": "code",
   "execution_count": null,
   "metadata": {},
   "outputs": [],
   "source": []
  }
 ],
 "metadata": {
  "kernelspec": {
   "display_name": "Python 3",
   "language": "python",
   "name": "python3"
  },
  "language_info": {
   "codemirror_mode": {
    "name": "ipython",
    "version": 3
   },
   "file_extension": ".py",
   "mimetype": "text/x-python",
   "name": "python",
   "nbconvert_exporter": "python",
   "pygments_lexer": "ipython3",
   "version": "3.6.5"
  }
 },
 "nbformat": 4,
 "nbformat_minor": 2
}
